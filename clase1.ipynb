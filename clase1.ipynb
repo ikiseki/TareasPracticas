{
  "nbformat": 4,
  "nbformat_minor": 0,
  "metadata": {
    "colab": {
      "provenance": [],
      "authorship_tag": "ABX9TyOT/MOLUX8Rg0CN5OEg+Rx0",
      "include_colab_link": true
    },
    "kernelspec": {
      "name": "python3",
      "display_name": "Python 3"
    },
    "language_info": {
      "name": "python"
    }
  },
  "cells": [
    {
      "cell_type": "markdown",
      "metadata": {
        "id": "view-in-github",
        "colab_type": "text"
      },
      "source": [
        "<a href=\"https://colab.research.google.com/github/ikiseki/TareasPracticas/blob/main/clase1.ipynb\" target=\"_parent\"><img src=\"https://colab.research.google.com/assets/colab-badge.svg\" alt=\"Open In Colab\"/></a>"
      ]
    },
    {
      "cell_type": "code",
      "execution_count": null,
      "metadata": {
        "colab": {
          "base_uri": "https://localhost:8080/"
        },
        "id": "OLecqhkgAMCK",
        "outputId": "e8f8d866-70c3-43e6-e910-dd830c0d049d"
      },
      "outputs": [
        {
          "output_type": "stream",
          "name": "stdout",
          "text": [
            "ola mundillo\n"
          ]
        }
      ],
      "source": [
        "print(\"ola mundito\")"
      ]
    },
    {
      "cell_type": "markdown",
      "source": [
        "###en este codigo se muestra un *hola mundito*"
      ],
      "metadata": {
        "id": "sMyZ_BsrAnWd"
      }
    }
  ]
}