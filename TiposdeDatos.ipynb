{
  "nbformat": 4,
  "nbformat_minor": 0,
  "metadata": {
    "colab": {
      "provenance": [],
      "authorship_tag": "ABX9TyM22932NFHbYZegztKIsmcv",
      "include_colab_link": true
    },
    "kernelspec": {
      "name": "python3",
      "display_name": "Python 3"
    },
    "language_info": {
      "name": "python"
    }
  },
  "cells": [
    {
      "cell_type": "markdown",
      "metadata": {
        "id": "view-in-github",
        "colab_type": "text"
      },
      "source": [
        "<a href=\"https://colab.research.google.com/github/ikiseki/TareasPracticas/blob/main/TiposdeDatos.ipynb\" target=\"_parent\"><img src=\"https://colab.research.google.com/assets/colab-badge.svg\" alt=\"Open In Colab\"/></a>"
      ]
    },
    {
      "cell_type": "markdown",
      "source": [
        "# **Tipos de Datos en Sintaxis**\n",
        "\n",
        "Empezando por los ***numericos***:\n",
        "\n",
        "\n",
        "> Enteros, Flotantes y Complejos\n",
        "\n"
      ],
      "metadata": {
        "id": "9Jykue5N7zn2"
      }
    },
    {
      "cell_type": "code",
      "source": [
        "numEntero=12\n",
        "numFlotante=19.333\n",
        "numComplejo=3+2j\n",
        "\n",
        "print(\"numero entero: \",numEntero)\n",
        "print(\"numero flotante: \",numFlotante)\n",
        "print(\"numero complejo: \",numComplejo)"
      ],
      "metadata": {
        "colab": {
          "base_uri": "https://localhost:8080/"
        },
        "id": "q1h-Cbes8cVa",
        "outputId": "f112c7df-715d-439c-c6d2-f0d05888750d"
      },
      "execution_count": 8,
      "outputs": [
        {
          "output_type": "stream",
          "name": "stdout",
          "text": [
            "numero entero:  12\n",
            "numero flotante:  19.333\n",
            "numero complejo:  (3+2j)\n"
          ]
        }
      ]
    },
    {
      "cell_type": "markdown",
      "source": [
        "Tipos de ***texto***:\n",
        "\n",
        "\n",
        "> String\n"
      ],
      "metadata": {
        "id": "ZVx5Wkvq9EuJ"
      }
    },
    {
      "cell_type": "code",
      "source": [
        "texto=\"recuerden que cada dos tazas de agua a una de arroz\"\n",
        "print(texto)"
      ],
      "metadata": {
        "colab": {
          "base_uri": "https://localhost:8080/"
        },
        "id": "YDUWgb2o9FJa",
        "outputId": "859437d8-e951-4c02-8eb5-8e928fee7a6c"
      },
      "execution_count": 9,
      "outputs": [
        {
          "output_type": "stream",
          "name": "stdout",
          "text": [
            "recuerden que cada dos tazas de agua a una de arroz\n"
          ]
        }
      ]
    },
    {
      "cell_type": "markdown",
      "source": [
        "Tipos ***Logicos***:\n",
        "\n",
        "\n",
        "> Bool\n",
        "\n"
      ],
      "metadata": {
        "id": "iVZir0e99oXq"
      }
    },
    {
      "cell_type": "code",
      "source": [
        "logico=True\n",
        "print(logico)"
      ],
      "metadata": {
        "colab": {
          "base_uri": "https://localhost:8080/"
        },
        "id": "pTAV1vQH9o0f",
        "outputId": "2ab7bbf8-b1ec-4836-a9ea-09f3402af8b6"
      },
      "execution_count": 10,
      "outputs": [
        {
          "output_type": "stream",
          "name": "stdout",
          "text": [
            "True\n"
          ]
        }
      ]
    },
    {
      "cell_type": "markdown",
      "source": [
        "Tipos ***compuestos***:\n",
        "\n",
        "\n",
        "> list, tulpe, range\n",
        "\n"
      ],
      "metadata": {
        "id": "oeMaMVk691mr"
      }
    },
    {
      "cell_type": "code",
      "source": [
        "listaEjemplo=[\"hola a todos\",2,4+5j]\n",
        "print(listaEjemplo[0]) #ejemplo de como acceder a un elemento de la lista y como es indexable\n",
        "tulpaEjemplo=(1,5,\"azucar\")\n",
        "print(tulpaEjemplo[2])\n",
        "rangoEjemplo=range(-8,0)\n",
        "print(rangoEjemplo[3])"
      ],
      "metadata": {
        "colab": {
          "base_uri": "https://localhost:8080/"
        },
        "id": "yszCpk31917O",
        "outputId": "63e6093f-6bf3-464e-8dee-caf40df7faf5"
      },
      "execution_count": 16,
      "outputs": [
        {
          "output_type": "stream",
          "name": "stdout",
          "text": [
            "hola a todos\n",
            "azucar\n",
            "-5\n"
          ]
        }
      ]
    }
  ]
}